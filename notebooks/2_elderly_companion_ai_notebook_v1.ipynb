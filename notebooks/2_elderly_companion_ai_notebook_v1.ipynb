{
  "cells": [
    {
      "cell_type": "markdown",
      "metadata": {
        "colab_type": "text",
        "id": "view-in-github"
      },
      "source": [
        "<a href=\"https://colab.research.google.com/github/monteroserra/elderly-companion-ai/blob/main/notebooks/elderly_companion_ai_notebook_2.ipynb\" target=\"_parent\"><img src=\"https://colab.research.google.com/assets/colab-badge.svg\" alt=\"Open In Colab\"/></a>"
      ]
    },
    {
      "cell_type": "markdown",
      "metadata": {
        "id": "f9YlTGRNNuqQ"
      },
      "source": [
        "## elderly-companion-ai notebook 2: text and voice models\n"
      ]
    },
    {
      "cell_type": "code",
      "execution_count": 1,
      "metadata": {
        "colab": {
          "base_uri": "https://localhost:8080/"
        },
        "id": "vv17ob9dNssj",
        "outputId": "43b412f3-f28b-44a6-f86d-15fe30b53f0d"
      },
      "outputs": [],
      "source": [
        "!pip install transformers SpeechRecognition gtts pydub --quiet\n"
      ]
    },
    {
      "cell_type": "code",
      "execution_count": 2,
      "metadata": {},
      "outputs": [
        {
          "name": "stdout",
          "output_type": "stream",
          "text": [
            "Requirement already satisfied: imageio[ffmpeg] in c:\\users\\nacho\\appdata\\local\\programs\\python\\python313\\lib\\site-packages (2.36.1)Note: you may need to restart the kernel to use updated packages.\n",
            "\n",
            "Requirement already satisfied: numpy in c:\\users\\nacho\\appdata\\local\\programs\\python\\python313\\lib\\site-packages (from imageio[ffmpeg]) (2.2.0)\n",
            "Requirement already satisfied: pillow>=8.3.2 in c:\\users\\nacho\\appdata\\local\\programs\\python\\python313\\lib\\site-packages (from imageio[ffmpeg]) (11.0.0)\n",
            "Requirement already satisfied: imageio-ffmpeg in c:\\users\\nacho\\appdata\\local\\programs\\python\\python313\\lib\\site-packages (from imageio[ffmpeg]) (0.5.1)\n",
            "Requirement already satisfied: psutil in c:\\users\\nacho\\appdata\\roaming\\python\\python313\\site-packages (from imageio[ffmpeg]) (6.1.0)\n",
            "Requirement already satisfied: setuptools in c:\\users\\nacho\\appdata\\local\\programs\\python\\python313\\lib\\site-packages (from imageio-ffmpeg->imageio[ffmpeg]) (75.6.0)\n"
          ]
        }
      ],
      "source": [
        "pip install imageio[ffmpeg]\n"
      ]
    },
    {
      "cell_type": "code",
      "execution_count": 6,
      "metadata": {},
      "outputs": [
        {
          "name": "stdout",
          "output_type": "stream",
          "text": [
            "Collecting pyaudioNote: you may need to restart the kernel to use updated packages.\n",
            "\n",
            "  Downloading PyAudio-0.2.14-cp313-cp313-win_amd64.whl.metadata (2.7 kB)\n",
            "Downloading PyAudio-0.2.14-cp313-cp313-win_amd64.whl (173 kB)\n",
            "Installing collected packages: pyaudio\n",
            "Successfully installed pyaudio-0.2.14\n"
          ]
        }
      ],
      "source": [
        "pip install pyaudio\n"
      ]
    },
    {
      "cell_type": "code",
      "execution_count": 3,
      "metadata": {},
      "outputs": [],
      "source": [
        "import speech_recognition as sr\n",
        "from gtts import gTTS\n",
        "from pydub import AudioSegment\n",
        "from pydub.playback import play\n"
      ]
    },
    {
      "cell_type": "code",
      "execution_count": 5,
      "metadata": {},
      "outputs": [
        {
          "name": "stdout",
          "output_type": "stream",
          "text": [
            "Recording... Speak now!\n",
            "Recording complete.\n",
            "Audio saved as recorded_audio.wav\n",
            "Playing audio: recorded_audio.wav\n"
          ]
        }
      ],
      "source": [
        "# Record Audio Function\n",
        "def record_audio(filename=\"recorded_audio.wav\"):\n",
        "    recognizer = sr.Recognizer()\n",
        "    with sr.Microphone() as source:\n",
        "        print(\"Recording... Speak now!\")\n",
        "        audio = recognizer.listen(source)\n",
        "        print(\"Recording complete.\")\n",
        "    \n",
        "    # Save the audio as a WAV file\n",
        "    with open(filename, \"wb\") as f:\n",
        "        f.write(audio.get_wav_data())\n",
        "    print(f\"Audio saved as {filename}\")\n",
        "    return filename\n",
        "\n",
        "# Playback Audio Function\n",
        "def play_audio(filename):\n",
        "    try:\n",
        "        # Load the audio file\n",
        "        audio = AudioSegment.from_file(filename)\n",
        "        print(f\"Playing audio: {filename}\")\n",
        "        play(audio)\n",
        "    except Exception as e:\n",
        "        print(f\"Error playing audio: {e}\")\n",
        "\n",
        "# Execute main functionality\n",
        "if __name__ == \"__main__\":\n",
        "    audio_file = record_audio()  # Record and save audio\n",
        "    play_audio(audio_file)       # Play back the saved audio\n"
      ]
    },
    {
      "cell_type": "markdown",
      "metadata": {},
      "source": [
        "### Voice - text - voice basic framework"
      ]
    },
    {
      "cell_type": "code",
      "execution_count": 22,
      "metadata": {},
      "outputs": [],
      "source": [
        "from dotenv import load_dotenv\n",
        "import openai\n",
        "import os\n",
        "\n",
        "# Load environment variables from .env file\n",
        "load_dotenv()\n",
        "\n",
        "# Get the API key\n",
        "openai.api_key = os.getenv(\"OPENAI_API_KEY\")\n",
        "\n",
        "# Check if the key was loaded correctly\n",
        "if not openai.api_key:\n",
        "    raise ValueError(\"OPENAI_API_KEY is not set in the .env file.\")\n",
        "\n",
        "# Initialize OpenAI client\n",
        "client = openai.OpenAI(\n",
        "    api_key=openai.api_key  \n",
        ")\n"
      ]
    },
    {
      "cell_type": "code",
      "execution_count": 7,
      "metadata": {},
      "outputs": [
        {
          "name": "stdout",
          "output_type": "stream",
          "text": [
            "Recording... Speak now!\n",
            "Recording complete.\n",
            "Audio saved as recorded_audio.wav\n",
            "Recognized text: hello how are you\n",
            "Analyzing text with LLM...\n",
            "LLM analysis error: \n",
            "\n",
            "You tried to access openai.Completion, but this is no longer supported in openai>=1.0.0 - see the README at https://github.com/openai/openai-python for the API.\n",
            "\n",
            "You can run `openai migrate` to automatically upgrade your codebase to use the 1.0.0 interface. \n",
            "\n",
            "Alternatively, you can pin your installation to the old version, e.g. `pip install openai==0.28`\n",
            "\n",
            "A detailed migration guide is available here: https://github.com/openai/openai-python/discussions/742\n",
            "\n"
          ]
        }
      ],
      "source": [
        "import speech_recognition as sr\n",
        "from gtts import gTTS\n",
        "from pydub import AudioSegment\n",
        "from pydub.playback import play\n",
        "import openai\n",
        "import os\n",
        "\n",
        "# Record Audio Function\n",
        "def record_audio(filename=\"recorded_audio.wav\"):\n",
        "    recognizer = sr.Recognizer()\n",
        "    with sr.Microphone() as source:\n",
        "        print(\"Recording... Speak now!\")\n",
        "        audio = recognizer.listen(source)\n",
        "        print(\"Recording complete.\")\n",
        "    \n",
        "    # Save the audio as a WAV file\n",
        "    with open(filename, \"wb\") as f:\n",
        "        f.write(audio.get_wav_data())\n",
        "    print(f\"Audio saved as {filename}\")\n",
        "    return filename\n",
        "\n",
        "# Convert Speech to Text\n",
        "def speech_to_text(audio_file):\n",
        "    recognizer = sr.Recognizer()\n",
        "    with sr.AudioFile(audio_file) as source:\n",
        "        audio = recognizer.record(source)\n",
        "        try:\n",
        "            text = recognizer.recognize_google(audio)\n",
        "            print(f\"Recognized text: {text}\")\n",
        "            return text\n",
        "        except sr.UnknownValueError:\n",
        "            print(\"Could not understand the audio.\")\n",
        "            return None\n",
        "        except sr.RequestError as e:\n",
        "            print(f\"Speech Recognition error: {e}\")\n",
        "            return None\n",
        "\n",
        "# Analyze Text with LLM\n",
        "def analyze_text_with_llm(text):\n",
        "    try:\n",
        "        print(\"Analyzing text with LLM...\")\n",
        "        response = openai.Completion.create(\n",
        "            engine=\"text-davinci-003\",  # Use your preferred model\n",
        "            prompt=f\"Analyze the following text and provide a meaningful response:\\n\\n{text}\",\n",
        "            max_tokens=100,\n",
        "            temperature=0.7\n",
        "        )\n",
        "        response_text = response.choices[0].text.strip()\n",
        "        print(f\"LLM Response: {response_text}\")\n",
        "        return response_text\n",
        "    except Exception as e:\n",
        "        print(f\"LLM analysis error: {e}\")\n",
        "        return None\n",
        "\n",
        "# Convert Text to Speech\n",
        "def text_to_speech(text, output_audio=\"response_audio.mp3\"):\n",
        "    try:\n",
        "        print(\"Converting text to speech...\")\n",
        "        tts = gTTS(text=text, lang=\"en\")\n",
        "        tts.save(output_audio)\n",
        "        print(f\"Response audio saved as {output_audio}\")\n",
        "        return output_audio\n",
        "    except Exception as e:\n",
        "        print(f\"Text-to-speech error: {e}\")\n",
        "        return None\n",
        "\n",
        "# Playback Audio Function\n",
        "def play_audio(filename):\n",
        "    try:\n",
        "        # Load the audio file\n",
        "        audio = AudioSegment.from_file(filename)\n",
        "        print(f\"Playing audio: {filename}\")\n",
        "        play(audio)\n",
        "    except Exception as e:\n",
        "        print(f\"Error playing audio: {e}\")\n"
      ]
    },
    {
      "cell_type": "code",
      "execution_count": null,
      "metadata": {},
      "outputs": [],
      "source": [
        "from transformers import AutoModelForCausalLM, AutoTokenizer\n",
        "\n",
        "def analyze_text_with_llm(text):\n",
        "    try:\n",
        "        print(\"Analyzing text with LLaMA model...\")\n",
        "        \n",
        "        # Load LLaMA model and tokenizer (use a pre-trained model available on Hugging Face)\n",
        "        model_name = \"meta-llama/Llama-2-7b-chat-hf\"  # Replace with the model you want\n",
        "        tokenizer = AutoTokenizer.from_pretrained(model_name)\n",
        "        model = AutoModelForCausalLM.from_pretrained(model_name)\n",
        "\n",
        "        # Tokenize input text\n",
        "        inputs = tokenizer(text, return_tensors=\"pt\")\n",
        "\n",
        "        # Generate response\n",
        "        outputs = model.generate(\n",
        "            inputs.input_ids,\n",
        "            max_length=100,\n",
        "            num_return_sequences=1,\n",
        "            temperature=0.7,\n",
        "        )\n",
        "\n",
        "        # Decode and return the response\n",
        "        response_text = tokenizer.decode(outputs[0], skip_special_tokens=True)\n",
        "        print(f\"LLM Response: {response_text}\")\n",
        "        return response_text\n",
        "    except Exception as e:\n",
        "        print(f\"LLM analysis error: {e}\")\n",
        "        return None\n",
        "\n"
      ]
    },
    {
      "cell_type": "code",
      "execution_count": null,
      "metadata": {},
      "outputs": [],
      "source": [
        "pip install torch torchvision torchaudio --index-url https://download.pytorch.org/whl/cpu\n"
      ]
    },
    {
      "cell_type": "markdown",
      "metadata": {},
      "source": [
        "### Function with OpenAI"
      ]
    },
    {
      "cell_type": "code",
      "execution_count": 24,
      "metadata": {},
      "outputs": [],
      "source": [
        "def analyze_text_with_llm(text):\n",
        "    try:\n",
        "        print(\"Analyzing text with OpenAI LLM...\")\n",
        "        \n",
        "        # Create chat completion\n",
        "        response = client.chat.completions.create(\n",
        "            messages=[\n",
        "                {\"role\": \"system\", \"content\": \"You are a helpful assistant.\"},\n",
        "                {\"role\": \"user\", \"content\": text}\n",
        "            ],\n",
        "            model=\"gpt-3.5-turbo\",  # Use the desired model, e.g., \"gpt-4\"\n",
        "            max_tokens=100,\n",
        "            temperature=0.7\n",
        "        )\n",
        "        \n",
        "        # Extract and return the response content\n",
        "        response_text = response[\"choices\"][0][\"message\"][\"content\"]\n",
        "        print(f\"LLM Response: {response_text}\")\n",
        "        return response_text\n",
        "\n",
        "    except Exception as e:\n",
        "        print(f\"LLM analysis error: {e}\")\n",
        "        return None\n"
      ]
    },
    {
      "cell_type": "markdown",
      "metadata": {},
      "source": [
        "#### Function with Open Source Models "
      ]
    },
    {
      "cell_type": "code",
      "execution_count": 29,
      "metadata": {},
      "outputs": [],
      "source": [
        "from transformers import AutoModelForCausalLM, AutoTokenizer\n",
        "\n",
        "import os\n",
        "os.environ[\"HF_HUB_DISABLE_SYMLINKS_WARNING\"] = \"1\"\n",
        "\n",
        "def analyze_text_with_llm(text):\n",
        "    try:\n",
        "        print(\"Analyzing text with an open-source LLM...\")\n",
        "\n",
        "        # Load model and tokenizer\n",
        "        model_name = \"gpt2\"  # Replace with a Hugging Face model like \"EleutherAI/gpt-neo-1.3B\"\n",
        "        tokenizer = AutoTokenizer.from_pretrained(model_name)\n",
        "        model = AutoModelForCausalLM.from_pretrained(model_name)\n",
        "\n",
        "        # Encode input text\n",
        "        inputs = tokenizer.encode(text, return_tensors=\"pt\")\n",
        "\n",
        "        # Generate a response\n",
        "        outputs = model.generate(inputs, max_length=100, num_return_sequences=1, temperature=0.7)\n",
        "\n",
        "        # Decode the response\n",
        "        response_text = tokenizer.decode(outputs[0], skip_special_tokens=True)\n",
        "        print(f\"LLM Response: {response_text}\")\n",
        "        return response_text\n",
        "    except Exception as e:\n",
        "        print(f\"LLM analysis error: {e}\")\n",
        "        return None\n"
      ]
    },
    {
      "cell_type": "code",
      "execution_count": 41,
      "metadata": {},
      "outputs": [
        {
          "name": "stdout",
          "output_type": "stream",
          "text": [
            "Recognized text: hello how are you\n",
            "Analyzing text with Hugging Face API...\n"
          ]
        },
        {
          "name": "stderr",
          "output_type": "stream",
          "text": [
            "c:\\Users\\Nacho\\AppData\\Local\\Programs\\Python\\Python313\\Lib\\site-packages\\huggingface_hub\\utils\\_deprecation.py:131: FutureWarning: 'InferenceApi' (from 'huggingface_hub.inference_api') is deprecated and will be removed from version '1.0'. `InferenceApi` client is deprecated in favor of the more feature-complete `InferenceClient`. Check out this guide to learn how to convert your script to use it: https://huggingface.co/docs/huggingface_hub/guides/inference#legacy-inferenceapi-client.\n",
            "  warnings.warn(warning_message, FutureWarning)\n"
          ]
        },
        {
          "name": "stdout",
          "output_type": "stream",
          "text": [
            "LLM Response: No response generated.\n",
            "Converting text to speech...\n",
            "Response audio saved as response_audio.mp3\n",
            "Error playing audio: [WinError 2] The system cannot find the file specified\n"
          ]
        },
        {
          "name": "stderr",
          "output_type": "stream",
          "text": [
            "c:\\Users\\Nacho\\AppData\\Local\\Programs\\Python\\Python313\\Lib\\site-packages\\pydub\\utils.py:198: RuntimeWarning: Couldn't find ffprobe or avprobe - defaulting to ffprobe, but may not work\n",
            "  warn(\"Couldn't find ffprobe or avprobe - defaulting to ffprobe, but may not work\", RuntimeWarning)\n"
          ]
        }
      ],
      "source": [
        "# Main Functionality\n",
        "if __name__ == \"__main__\":\n",
        "    # Step 1: Record Audio\n",
        "    audio_file = \"recorded_audio.wav\"  # Specify the path to the stored audio file\n",
        "    #audio_file = record_audio()\n",
        "    \n",
        "    # Step 2: Convert Audio to Text\n",
        "    recognized_text = speech_to_text(audio_file)\n",
        "    \n",
        "    if recognized_text:\n",
        "        # Step 3: Analyze Text with LLM\n",
        "        llm_response = analyze_text_with_huggingface(recognized_text)\n",
        "        \n",
        "        if llm_response:\n",
        "            # Step 4: Convert LLM Response to Speech\n",
        "            response_audio = text_to_speech(llm_response)\n",
        "            \n",
        "            if response_audio:\n",
        "                # Step 5: Play the Response Audio\n",
        "                play_audio(response_audio)"
      ]
    },
    {
      "cell_type": "code",
      "execution_count": 31,
      "metadata": {},
      "outputs": [
        {
          "name": "stdout",
          "output_type": "stream",
          "text": [
            "Looking in indexes: https://download.pytorch.org/whl/cpu\n",
            "Note: you may need to restart the kernel to use updated packages.\n"
          ]
        },
        {
          "name": "stderr",
          "output_type": "stream",
          "text": [
            "ERROR: Could not find a version that satisfies the requirement torch (from versions: none)\n",
            "ERROR: No matching distribution found for torch\n"
          ]
        }
      ],
      "source": [
        "pip install torch torchvision torchaudio --index-url https://download.pytorch.org/whl/cpu\n"
      ]
    },
    {
      "cell_type": "code",
      "execution_count": 33,
      "metadata": {},
      "outputs": [
        {
          "name": "stdout",
          "output_type": "stream",
          "text": [
            "Requirement already satisfied: huggingface-hub in c:\\users\\nacho\\appdata\\local\\programs\\python\\python313\\lib\\site-packages (0.27.0)Note: you may need to restart the kernel to use updated packages.\n",
            "\n",
            "Requirement already satisfied: filelock in c:\\users\\nacho\\appdata\\local\\programs\\python\\python313\\lib\\site-packages (from huggingface-hub) (3.16.1)\n",
            "Requirement already satisfied: fsspec>=2023.5.0 in c:\\users\\nacho\\appdata\\local\\programs\\python\\python313\\lib\\site-packages (from huggingface-hub) (2024.12.0)\n",
            "Requirement already satisfied: packaging>=20.9 in c:\\users\\nacho\\appdata\\local\\programs\\python\\python313\\lib\\site-packages (from huggingface-hub) (24.2)\n",
            "Requirement already satisfied: pyyaml>=5.1 in c:\\users\\nacho\\appdata\\local\\programs\\python\\python313\\lib\\site-packages (from huggingface-hub) (6.0.2)\n",
            "Requirement already satisfied: requests in c:\\users\\nacho\\appdata\\local\\programs\\python\\python313\\lib\\site-packages (from huggingface-hub) (2.32.3)\n",
            "Requirement already satisfied: tqdm>=4.42.1 in c:\\users\\nacho\\appdata\\local\\programs\\python\\python313\\lib\\site-packages (from huggingface-hub) (4.67.1)\n",
            "Requirement already satisfied: typing-extensions>=3.7.4.3 in c:\\users\\nacho\\appdata\\local\\programs\\python\\python313\\lib\\site-packages (from huggingface-hub) (4.12.2)\n",
            "Requirement already satisfied: colorama in c:\\users\\nacho\\appdata\\local\\programs\\python\\python313\\lib\\site-packages (from tqdm>=4.42.1->huggingface-hub) (0.4.6)\n",
            "Requirement already satisfied: charset-normalizer<4,>=2 in c:\\users\\nacho\\appdata\\local\\programs\\python\\python313\\lib\\site-packages (from requests->huggingface-hub) (3.4.0)\n",
            "Requirement already satisfied: idna<4,>=2.5 in c:\\users\\nacho\\appdata\\local\\programs\\python\\python313\\lib\\site-packages (from requests->huggingface-hub) (3.10)\n",
            "Requirement already satisfied: urllib3<3,>=1.21.1 in c:\\users\\nacho\\appdata\\local\\programs\\python\\python313\\lib\\site-packages (from requests->huggingface-hub) (2.2.3)\n",
            "Requirement already satisfied: certifi>=2017.4.17 in c:\\users\\nacho\\appdata\\local\\programs\\python\\python313\\lib\\site-packages (from requests->huggingface-hub) (2024.12.14)\n"
          ]
        }
      ],
      "source": [
        "pip install huggingface-hub\n"
      ]
    },
    {
      "cell_type": "code",
      "execution_count": 37,
      "metadata": {},
      "outputs": [],
      "source": [
        "### get HF token\n",
        "\n",
        "# Load environment variables from .env file\n",
        "load_dotenv()\n",
        "\n",
        "# Get the Hugging Face token\n",
        "HF_token = os.getenv(\"HF_Token\")\n"
      ]
    },
    {
      "cell_type": "code",
      "execution_count": 40,
      "metadata": {},
      "outputs": [],
      "source": [
        "from huggingface_hub import InferenceApi\n",
        "\n",
        "def analyze_text_with_huggingface(text):\n",
        "    try:\n",
        "        print(\"Analyzing text with Hugging Face API...\")\n",
        "\n",
        "        # Set up the Hugging Face Inference API client\n",
        "        api = InferenceApi(repo_id=\"EleutherAI/gpt-neo-1.3B\", token=HF_token)\n",
        "\n",
        "        # Send the input text to the model\n",
        "        response = api({\"inputs\": text})\n",
        "        response_text = response.get(\"generated_text\", \"No response generated.\")\n",
        "        print(f\"LLM Response: {response_text}\")\n",
        "        return response_text\n",
        "    except Exception as e:\n",
        "        print(f\"LLM analysis error: {e}\")\n",
        "        return None\n"
      ]
    },
    {
      "cell_type": "markdown",
      "metadata": {
        "id": "BcijhG0oOiSB"
      },
      "source": [
        "## Record voice"
      ]
    }
  ],
  "metadata": {
    "colab": {
      "authorship_tag": "ABX9TyPLx3JiU+FrnJbk/s7egVNN",
      "include_colab_link": true,
      "provenance": []
    },
    "kernelspec": {
      "display_name": "Python 3",
      "name": "python3"
    },
    "language_info": {
      "codemirror_mode": {
        "name": "ipython",
        "version": 3
      },
      "file_extension": ".py",
      "mimetype": "text/x-python",
      "name": "python",
      "nbconvert_exporter": "python",
      "pygments_lexer": "ipython3",
      "version": "3.13.1"
    }
  },
  "nbformat": 4,
  "nbformat_minor": 0
}
