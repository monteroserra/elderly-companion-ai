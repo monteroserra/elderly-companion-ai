{
  "cells": [
    {
      "cell_type": "markdown",
      "metadata": {
        "colab_type": "text",
        "id": "view-in-github"
      },
      "source": [
        "<a href=\"https://colab.research.google.com/github/monteroserra/elderly-companion-ai/blob/main/notebooks/elderly_companion_ai_notebook_2.ipynb\" target=\"_parent\"><img src=\"https://colab.research.google.com/assets/colab-badge.svg\" alt=\"Open In Colab\"/></a>"
      ]
    },
    {
      "cell_type": "markdown",
      "metadata": {
        "id": "f9YlTGRNNuqQ"
      },
      "source": [
        "## elderly-companion-ai notebook 2: text and voice models\n"
      ]
    },
    {
      "cell_type": "code",
      "execution_count": 4,
      "metadata": {
        "colab": {
          "base_uri": "https://localhost:8080/"
        },
        "id": "vv17ob9dNssj",
        "outputId": "43b412f3-f28b-44a6-f86d-15fe30b53f0d"
      },
      "outputs": [
        {
          "name": "stderr",
          "output_type": "stream",
          "text": [
            "  error: subprocess-exited-with-error\n",
            "  \n",
            "  × Preparing metadata (pyproject.toml) did not run successfully.\n",
            "  │ exit code: 1\n",
            "  ╰─> [6 lines of output]\n",
            "      Checking for Rust toolchain....\n",
            "      \n",
            "      Cargo, the Rust package manager, is not installed or is not on PATH.\n",
            "      This package requires Rust and Cargo to compile extensions. Install it through\n",
            "      the system's package manager or via https://rustup.rs/\n",
            "      \n",
            "      [end of output]\n",
            "  \n",
            "  note: This error originates from a subprocess, and is likely not a problem with pip.\n",
            "error: metadata-generation-failed\n",
            "\n",
            "× Encountered error while generating package metadata.\n",
            "╰─> See above for output.\n",
            "\n",
            "note: This is an issue with the package mentioned above, not pip.\n",
            "hint: See above for details.\n"
          ]
        }
      ],
      "source": [
        "!pip install transformers SpeechRecognition gtts pydub --quiet\n"
      ]
    },
    {
      "cell_type": "code",
      "execution_count": null,
      "metadata": {},
      "outputs": [],
      "source": [
        "import speech_recognition as sr\n",
        "from gtts import gTTS\n",
        "from pydub import AudioSegment\n",
        "from pydub.playback import play\n",
        "\n",
        "# Record Audio Function\n",
        "def record_audio(filename=\"recorded_audio.wav\"):\n",
        "    recognizer = sr.Recognizer()\n",
        "    with sr.Microphone() as source:\n",
        "        print(\"Recording... Speak now!\")\n",
        "        audio = recognizer.listen(source)\n",
        "        print(\"Recording complete.\")\n",
        "    \n",
        "    # Save the audio as a WAV file\n",
        "    with open(filename, \"wb\") as f:\n",
        "        f.write(audio.get_wav_data())\n",
        "    print(f\"Audio saved as {filename}\")\n",
        "    return filename\n",
        "\n",
        "# Playback Audio Function\n",
        "def play_audio(filename):\n",
        "    try:\n",
        "        # Load the audio file\n",
        "        audio = AudioSegment.from_file(filename)\n",
        "        print(f\"Playing audio: {filename}\")\n",
        "        play(audio)\n",
        "    except Exception as e:\n",
        "        print(f\"Error playing audio: {e}\")\n",
        "\n",
        "# Execute main functionality\n",
        "if __name__ == \"__main__\":\n",
        "    audio_file = record_audio()  # Record and save audio\n",
        "    play_audio(audio_file)       # Play back the saved audio\n"
      ]
    },
    {
      "cell_type": "code",
      "execution_count": 2,
      "metadata": {
        "colab": {
          "base_uri": "https://localhost:8080/"
        },
        "id": "BRjP8WpJNsvM",
        "outputId": "34069095-4e76-43c6-9eca-3c84dbd9b3b7"
      },
      "outputs": [
        {
          "ename": "ModuleNotFoundError",
          "evalue": "No module named 'speech_recognition'",
          "output_type": "error",
          "traceback": [
            "\u001b[1;31m---------------------------------------------------------------------------\u001b[0m",
            "\u001b[1;31mModuleNotFoundError\u001b[0m                       Traceback (most recent call last)",
            "Cell \u001b[1;32mIn[2], line 2\u001b[0m\n\u001b[0;32m      1\u001b[0m \u001b[38;5;28;01mimport\u001b[39;00m \u001b[38;5;21;01mos\u001b[39;00m\n\u001b[1;32m----> 2\u001b[0m \u001b[38;5;28;01mimport\u001b[39;00m \u001b[38;5;21;01mspeech_recognition\u001b[39;00m \u001b[38;5;28;01mas\u001b[39;00m \u001b[38;5;21;01msr\u001b[39;00m\n\u001b[0;32m      3\u001b[0m \u001b[38;5;28;01mfrom\u001b[39;00m \u001b[38;5;21;01mgtts\u001b[39;00m \u001b[38;5;28;01mimport\u001b[39;00m gTTS\n\u001b[0;32m      4\u001b[0m \u001b[38;5;28;01mfrom\u001b[39;00m \u001b[38;5;21;01mtransformers\u001b[39;00m \u001b[38;5;28;01mimport\u001b[39;00m pipeline\n",
            "\u001b[1;31mModuleNotFoundError\u001b[0m: No module named 'speech_recognition'"
          ]
        }
      ],
      "source": [
        "import os\n",
        "import speech_recognition as sr\n",
        "from gtts import gTTS\n",
        "from transformers import pipeline\n",
        "\n",
        "# Initialize speech recognizer\n",
        "recognizer = sr.Recognizer()\n",
        "\n",
        "# Define LLM (using OpenAI's GPT-2 model for this example)\n",
        "generator = pipeline(\"text-generation\", model=\"gpt2\")\n",
        "\n",
        "# Function to convert speech to text\n",
        "def speech_to_text(audio_file):\n",
        "    with sr.AudioFile(audio_file) as source:\n",
        "        print(\"Processing audio for transcription...\")\n",
        "        audio_data = recognizer.record(source)\n",
        "        try:\n",
        "            text = recognizer.recognize_google(audio_data)\n",
        "            print(f\"Recognized text: {text}\")\n",
        "            return text\n",
        "        except sr.UnknownValueError:\n",
        "            print(\"Speech Recognition could not understand the audio\")\n",
        "            return None\n",
        "        except sr.RequestError as e:\n",
        "            print(f\"Could not request results from Speech Recognition service; {e}\")\n",
        "            return None\n",
        "\n",
        "# Function to generate response using an LLM\n",
        "def generate_response(input_text):\n",
        "    print(\"Generating response with LLM...\")\n",
        "    response = generator(input_text, max_length=50, num_return_sequences=1)\n",
        "    generated_text = response[0]['generated_text']\n",
        "    print(f\"Generated text: {generated_text}\")\n",
        "    return generated_text\n",
        "\n",
        "# Function to convert text to speech\n",
        "def text_to_speech(text, output_file=\"response.mp3\"):\n",
        "    print(\"Converting text to speech...\")\n",
        "    tts = gTTS(text=text, lang='en')\n",
        "    tts.save(output_file)\n",
        "    os.system(f\"mpg123 {output_file}\")  # Play the generated audio file\n",
        "\n"
      ]
    },
    {
      "cell_type": "markdown",
      "metadata": {
        "id": "BcijhG0oOiSB"
      },
      "source": [
        "## Record voice"
      ]
    },
    {
      "cell_type": "code",
      "execution_count": null,
      "metadata": {
        "colab": {
          "base_uri": "https://localhost:8080/"
        },
        "id": "PFCiuTIrOfnL",
        "outputId": "1cc0098f-b488-4e9d-8062-487393baf48e"
      },
      "outputs": [
        {
          "name": "stdout",
          "output_type": "stream",
          "text": [
            "Requirement already satisfied: sounddevice in /usr/local/lib/python3.10/dist-packages (0.5.1)\n",
            "Requirement already satisfied: scipy in /usr/local/lib/python3.10/dist-packages (1.13.1)\n",
            "Requirement already satisfied: CFFI>=1.0 in /usr/local/lib/python3.10/dist-packages (from sounddevice) (1.17.1)\n",
            "Requirement already satisfied: numpy<2.3,>=1.22.4 in /usr/local/lib/python3.10/dist-packages (from scipy) (1.26.4)\n",
            "Requirement already satisfied: pycparser in /usr/local/lib/python3.10/dist-packages (from CFFI>=1.0->sounddevice) (2.22)\n",
            "Reading package lists... Done\n",
            "Building dependency tree... Done\n",
            "Reading state information... Done\n",
            "The following additional packages will be installed:\n",
            "  libportaudio2 libportaudiocpp0\n",
            "Suggested packages:\n",
            "  portaudio19-doc\n",
            "The following NEW packages will be installed:\n",
            "  libportaudio2 libportaudiocpp0 portaudio19-dev\n",
            "0 upgraded, 3 newly installed, 0 to remove and 49 not upgraded.\n",
            "Need to get 188 kB of archives.\n",
            "After this operation, 927 kB of additional disk space will be used.\n",
            "Get:1 http://archive.ubuntu.com/ubuntu jammy/universe amd64 libportaudio2 amd64 19.6.0-1.1 [65.3 kB]\n",
            "Get:2 http://archive.ubuntu.com/ubuntu jammy/universe amd64 libportaudiocpp0 amd64 19.6.0-1.1 [16.1 kB]\n",
            "Get:3 http://archive.ubuntu.com/ubuntu jammy/universe amd64 portaudio19-dev amd64 19.6.0-1.1 [106 kB]\n",
            "Fetched 188 kB in 0s (1,000 kB/s)\n",
            "Selecting previously unselected package libportaudio2:amd64.\n",
            "(Reading database ... 123634 files and directories currently installed.)\n",
            "Preparing to unpack .../libportaudio2_19.6.0-1.1_amd64.deb ...\n",
            "Unpacking libportaudio2:amd64 (19.6.0-1.1) ...\n",
            "Selecting previously unselected package libportaudiocpp0:amd64.\n",
            "Preparing to unpack .../libportaudiocpp0_19.6.0-1.1_amd64.deb ...\n",
            "Unpacking libportaudiocpp0:amd64 (19.6.0-1.1) ...\n",
            "Selecting previously unselected package portaudio19-dev:amd64.\n",
            "Preparing to unpack .../portaudio19-dev_19.6.0-1.1_amd64.deb ...\n",
            "Unpacking portaudio19-dev:amd64 (19.6.0-1.1) ...\n",
            "Setting up libportaudio2:amd64 (19.6.0-1.1) ...\n",
            "Setting up libportaudiocpp0:amd64 (19.6.0-1.1) ...\n",
            "Setting up portaudio19-dev:amd64 (19.6.0-1.1) ...\n",
            "Processing triggers for libc-bin (2.35-0ubuntu3.4) ...\n",
            "/sbin/ldconfig.real: /usr/local/lib/libtbb.so.12 is not a symbolic link\n",
            "\n",
            "/sbin/ldconfig.real: /usr/local/lib/libur_loader.so.0 is not a symbolic link\n",
            "\n",
            "/sbin/ldconfig.real: /usr/local/lib/libtbbbind.so.3 is not a symbolic link\n",
            "\n",
            "/sbin/ldconfig.real: /usr/local/lib/libtcm.so.1 is not a symbolic link\n",
            "\n",
            "/sbin/ldconfig.real: /usr/local/lib/libtbbmalloc_proxy.so.2 is not a symbolic link\n",
            "\n",
            "/sbin/ldconfig.real: /usr/local/lib/libur_adapter_opencl.so.0 is not a symbolic link\n",
            "\n",
            "/sbin/ldconfig.real: /usr/local/lib/libtbbbind_2_0.so.3 is not a symbolic link\n",
            "\n",
            "/sbin/ldconfig.real: /usr/local/lib/libur_adapter_level_zero.so.0 is not a symbolic link\n",
            "\n",
            "/sbin/ldconfig.real: /usr/local/lib/libtcm_debug.so.1 is not a symbolic link\n",
            "\n",
            "/sbin/ldconfig.real: /usr/local/lib/libhwloc.so.15 is not a symbolic link\n",
            "\n",
            "/sbin/ldconfig.real: /usr/local/lib/libumf.so.0 is not a symbolic link\n",
            "\n",
            "/sbin/ldconfig.real: /usr/local/lib/libtbbmalloc.so.2 is not a symbolic link\n",
            "\n",
            "/sbin/ldconfig.real: /usr/local/lib/libtbbbind_2_5.so.3 is not a symbolic link\n",
            "\n"
          ]
        }
      ],
      "source": [
        "\n",
        "!apt-get install -y portaudio19-dev\n"
      ]
    },
    {
      "cell_type": "code",
      "execution_count": null,
      "metadata": {
        "colab": {
          "base_uri": "https://localhost:8080/"
        },
        "id": "Q_gZLPtaPNFZ",
        "outputId": "35c6b8dc-e73b-4062-9e2a-37787a305b61"
      },
      "outputs": [
        {
          "name": "stdout",
          "output_type": "stream",
          "text": [
            "Requirement already satisfied: sounddevice in /usr/local/lib/python3.10/dist-packages (0.5.1)\n",
            "Requirement already satisfied: scipy in /usr/local/lib/python3.10/dist-packages (1.13.1)\n",
            "Requirement already satisfied: CFFI>=1.0 in /usr/local/lib/python3.10/dist-packages (from sounddevice) (1.17.1)\n",
            "Requirement already satisfied: numpy<2.3,>=1.22.4 in /usr/local/lib/python3.10/dist-packages (from scipy) (1.26.4)\n",
            "Requirement already satisfied: pycparser in /usr/local/lib/python3.10/dist-packages (from CFFI>=1.0->sounddevice) (2.22)\n"
          ]
        }
      ],
      "source": [
        "!pip install sounddevice scipy\n"
      ]
    },
    {
      "cell_type": "code",
      "execution_count": null,
      "metadata": {
        "id": "m34G_wM7OnFW"
      },
      "outputs": [],
      "source": [
        "import sounddevice as sd\n",
        "from scipy.io.wavfile import write\n",
        "import os\n",
        "\n",
        "def record_voice(filename=\"output.wav\", duration=5, sample_rate=44100):\n",
        "    \"\"\"\n",
        "    Records voice from the microphone and saves it as a .wav file.\n",
        "\n",
        "    :param filename: Name of the output file.\n",
        "    :param duration: Duration of recording in seconds.\n",
        "    :param sample_rate: Sampling rate in Hz (default is 44100 Hz).\n",
        "    \"\"\"\n",
        "    print(f\"Recording for {duration} seconds...\")\n",
        "    try:\n",
        "        # Record audio\n",
        "        audio = sd.rec(int(duration * sample_rate), samplerate=sample_rate, channels=1, dtype=\"int16\")\n",
        "        sd.wait()  # Wait until recording is finished\n",
        "\n",
        "        # Save as a WAV file\n",
        "        write(filename, sample_rate, audio)\n",
        "        print(f\"Recording saved as {filename}\")\n",
        "    except Exception as e:\n",
        "        print(f\"An error occurred while recording: {e}\")\n",
        "\n"
      ]
    },
    {
      "cell_type": "code",
      "execution_count": null,
      "metadata": {
        "colab": {
          "base_uri": "https://localhost:8080/"
        },
        "id": "CKLhLpDFOoZ2",
        "outputId": "9ba6949b-40d1-4097-e347-ba9b5219066e"
      },
      "outputs": [
        {
          "name": "stdout",
          "output_type": "stream",
          "text": [
            "Recording for 5 seconds...\n",
            "An error occurred while recording: Error querying device -1\n",
            "Recording failed.\n"
          ]
        }
      ],
      "source": [
        "# Example usage\n",
        "record_filename = \"test_audio.wav\"  # Change the name if needed\n",
        "record_duration = 5  # Duration in seconds\n",
        "\n",
        "record_voice(filename=record_filename, duration=record_duration)\n",
        "\n",
        "# Verify the file is saved\n",
        "if os.path.exists(record_filename):\n",
        "    print(f\"File {record_filename} is ready for testing.\")\n",
        "else:\n",
        "    print(\"Recording failed.\")"
      ]
    },
    {
      "cell_type": "code",
      "execution_count": null,
      "metadata": {
        "colab": {
          "base_uri": "https://localhost:8080/"
        },
        "id": "l_AgGHZmPiil",
        "outputId": "9a5a0a24-bd78-4909-bfa3-abdc64602a50"
      },
      "outputs": [
        {
          "name": "stdout",
          "output_type": "stream",
          "text": [
            "\n"
          ]
        }
      ],
      "source": [
        "import sounddevice as sd\n",
        "\n",
        "print(sd.query_devices())"
      ]
    },
    {
      "cell_type": "code",
      "execution_count": null,
      "metadata": {
        "id": "KDe9FbDQOEmC"
      },
      "outputs": [],
      "source": [
        "# Example usage\n",
        "# Record or provide an audio file here (use a pre-recorded .wav file for demo purposes)\n",
        "audio_file_path = \"path_to_audio.wav\"  # Replace with your .wav file path\n",
        "\n",
        "# Step 1: Speech-to-Text\n",
        "input_text = speech_to_text(audio_file_path)\n",
        "\n",
        "if input_text:\n",
        "    # Step 2: Generate Response\n",
        "    output_text = generate_response(input_text)\n",
        "\n",
        "    # Step 3: Text-to-Speech\n",
        "    text_to_speech(output_text)\n",
        "else:\n",
        "    print(\"No valid input detected.\")"
      ]
    }
  ],
  "metadata": {
    "colab": {
      "authorship_tag": "ABX9TyPLx3JiU+FrnJbk/s7egVNN",
      "include_colab_link": true,
      "provenance": []
    },
    "kernelspec": {
      "display_name": "Python 3",
      "name": "python3"
    },
    "language_info": {
      "codemirror_mode": {
        "name": "ipython",
        "version": 3
      },
      "file_extension": ".py",
      "mimetype": "text/x-python",
      "name": "python",
      "nbconvert_exporter": "python",
      "pygments_lexer": "ipython3",
      "version": "3.13.1"
    }
  },
  "nbformat": 4,
  "nbformat_minor": 0
}
